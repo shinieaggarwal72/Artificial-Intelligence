{
  "nbformat": 4,
  "nbformat_minor": 0,
  "metadata": {
    "colab": {
      "provenance": [],
      "authorship_tag": "ABX9TyNsG4Q6l0R58EMjllMHQggm",
      "include_colab_link": true
    },
    "kernelspec": {
      "name": "python3",
      "display_name": "Python 3"
    },
    "language_info": {
      "name": "python"
    }
  },
  "cells": [
    {
      "cell_type": "markdown",
      "metadata": {
        "id": "view-in-github",
        "colab_type": "text"
      },
      "source": [
        "<a href=\"https://colab.research.google.com/github/shinieaggarwal72/Artificial-Intelligence/blob/main/best_first_search.ipynb\" target=\"_parent\"><img src=\"https://colab.research.google.com/assets/colab-badge.svg\" alt=\"Open In Colab\"/></a>"
      ]
    },
    {
      "cell_type": "code",
      "execution_count": null,
      "metadata": {
        "id": "ZbFZG1WO8bIA"
      },
      "outputs": [],
      "source": [
        "import sys\n",
        "import copy"
      ]
    },
    {
      "cell_type": "code",
      "source": [
        "q = []\n",
        "visited = []"
      ],
      "metadata": {
        "id": "bsKVJhF68q0_"
      },
      "execution_count": null,
      "outputs": []
    },
    {
      "cell_type": "code",
      "source": [
        "def find_blank_tile(state):\n",
        "  for i in range(3):\n",
        "    for j in range(3):\n",
        "      if state[i][j]==0:\n",
        "        return ([i,j])\n"
      ],
      "metadata": {
        "id": "V-vmtHRd8u7U"
      },
      "execution_count": null,
      "outputs": []
    },
    {
      "cell_type": "code",
      "source": [
        "def moveUp(state, pos):\n",
        "  x = pos[0]\n",
        "  y = pos[1]\n",
        "  if x>0:\n",
        "    temp = copy.deepcopy(state)\n",
        "    temp[x][y] = temp[x-1][y]\n",
        "    temp[x-1][y] = 0\n",
        "    return temp\n",
        "  else:\n",
        "    return state\n"
      ],
      "metadata": {
        "id": "lUS3D28i89vl"
      },
      "execution_count": null,
      "outputs": []
    },
    {
      "cell_type": "code",
      "source": [
        "def moveDown(state, pos):\n",
        "  x = pos[0]\n",
        "  y = pos[1]\n",
        "  if x<2:\n",
        "    temp = copy.deepcopy(state)\n",
        "    temp[x][y] = temp[x+1][y]\n",
        "    temp[x+1][y] = 0\n",
        "    return temp\n",
        "  else:\n",
        "    return state"
      ],
      "metadata": {
        "id": "R0360rqK9cQ1"
      },
      "execution_count": null,
      "outputs": []
    },
    {
      "cell_type": "code",
      "source": [
        "def moveRight(state, pos):\n",
        "  x,y = pos\n",
        "  if y<2:\n",
        "    temp = copy.deepcopy(state)\n",
        "    temp[x][y] = temp[x][y+1]\n",
        "    temp[x][y+1] = 0\n",
        "    return temp\n",
        "  else:\n",
        "    return state"
      ],
      "metadata": {
        "id": "vg3dYHJx9qRq"
      },
      "execution_count": null,
      "outputs": []
    },
    {
      "cell_type": "code",
      "source": [
        "def moveLeft(state, pos):\n",
        "  x,y = pos\n",
        "  if y>0:\n",
        "    temp = copy.deepcopy(state)\n",
        "    temp[x][y] = temp[x][y-1]\n",
        "    temp[x][y-1] = 0\n",
        "    return temp\n",
        "  else:\n",
        "    return state"
      ],
      "metadata": {
        "id": "kCCOqCwq9-gR"
      },
      "execution_count": null,
      "outputs": []
    },
    {
      "cell_type": "code",
      "source": [
        "def enqueue(state, hVal):\n",
        "  global q\n",
        "  q = q + [(hVal, state)]"
      ],
      "metadata": {
        "id": "RfykyHY5-PFl"
      },
      "execution_count": null,
      "outputs": []
    },
    {
      "cell_type": "code",
      "source": [
        "def heuristicVal(state, goal):\n",
        "  val = 0\n",
        "  for i in range(3):\n",
        "    for j in range(3):\n",
        "      if state[i][j] != goal[i][j]:\n",
        "        val = val+1\n",
        "  return val"
      ],
      "metadata": {
        "id": "7fqysZK3-ewo"
      },
      "execution_count": null,
      "outputs": []
    },
    {
      "cell_type": "code",
      "source": [
        "def dequeue():\n",
        "  global q\n",
        "  global visited\n",
        "  q.sort()\n",
        "  visited = visited + [q[0][1]]\n",
        "  node = q[0][1]\n",
        "  del q[0]\n",
        "  return node"
      ],
      "metadata": {
        "id": "p328Bnw1-x1p"
      },
      "execution_count": null,
      "outputs": []
    },
    {
      "cell_type": "code",
      "source": [
        "def bestFirstSearch(initialS, goalS):\n",
        "  curr = copy.deepcopy(initialS)\n",
        "  if curr == goalS:\n",
        "    return\n",
        "  global visited\n",
        "  while True:\n",
        "    pos = find_blank_tile(curr)\n",
        "    succ = moveUp(curr, pos)\n",
        "    if succ != curr:\n",
        "      if succ == goalS:\n",
        "        print('GOAL NODE FOUND!!!\\n')\n",
        "        print('The intermediate states are: \\n')\n",
        "        print(visited+[succ])\n",
        "        return\n",
        "      else:\n",
        "        if succ not in visited:\n",
        "          enqueue(succ, heuristicVal(succ, goalS))\n",
        "    succ = moveDown(curr, pos)\n",
        "    if succ != curr:\n",
        "      if succ == goalS:\n",
        "        print('GOAL NODE FOUND!!!\\n')\n",
        "        print('The intermediate states are: \\n')\n",
        "        print(visited+[succ])\n",
        "        return\n",
        "      else:\n",
        "        if succ not in visited:\n",
        "          enqueue(succ, heuristicVal(succ, goalS))\n",
        "    succ = moveLeft(curr, pos)\n",
        "    if succ != curr:\n",
        "      if succ == goalS:\n",
        "        print('GOAL NODE FOUND!!!\\n')\n",
        "        print('The intermediate states are: \\n')\n",
        "        print(visited+[succ])\n",
        "        return\n",
        "      else:\n",
        "        if succ not in visited:\n",
        "          enqueue(succ, heuristicVal(succ, goalS))\n",
        "    succ = moveRight(curr, pos)\n",
        "    if succ != curr:\n",
        "      if succ == goalS:\n",
        "        print('GOAL NODE FOUND!!!\\n')\n",
        "        print('The intermediate states are: \\n')\n",
        "        print(visited+[succ])\n",
        "        return\n",
        "      else:\n",
        "        if succ not in visited:\n",
        "          enqueue(succ, heuristicVal(succ, goalS))\n",
        "\n",
        "    if len(q)>0:\n",
        "      curr = dequeue()\n",
        "    else:\n",
        "      print(\"NOT FOUND\")\n",
        "      return\n",
        "\n",
        "\n",
        "\n"
      ],
      "metadata": {
        "id": "CYzE7Qgu_QsQ"
      },
      "execution_count": null,
      "outputs": []
    },
    {
      "cell_type": "code",
      "source": [
        "def main():\n",
        "  initialS = [[2,0,3], [1,8,4], [7,6,5]]\n",
        "  goalS = [[1,2,3],[8,0,4],[7,6,5]]\n",
        "  global q\n",
        "  global visited\n",
        "  q=q\n",
        "  visited = visited + [initialS]\n",
        "  bestFirstSearch(initialS, goalS)"
      ],
      "metadata": {
        "id": "-8fQfnlRGXY-"
      },
      "execution_count": null,
      "outputs": []
    },
    {
      "cell_type": "code",
      "source": [
        "main()"
      ],
      "metadata": {
        "colab": {
          "base_uri": "https://localhost:8080/"
        },
        "id": "sRSUaANpGyk1",
        "outputId": "8eee8c58-d2f7-44d4-9289-797a827fb64e"
      },
      "execution_count": null,
      "outputs": [
        {
          "output_type": "stream",
          "name": "stdout",
          "text": [
            "GOAL NODE FOUND!!!\n",
            "\n",
            "The intermediate states are: \n",
            "\n",
            "[[[2, 0, 3], [1, 8, 4], [7, 6, 5]], [[0, 2, 3], [1, 8, 4], [7, 6, 5]], [[1, 2, 3], [0, 8, 4], [7, 6, 5]], [[1, 2, 3], [8, 0, 4], [7, 6, 5]]]\n"
          ]
        }
      ]
    }
  ]
}