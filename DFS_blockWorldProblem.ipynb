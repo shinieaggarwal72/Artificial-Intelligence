{
  "nbformat": 4,
  "nbformat_minor": 0,
  "metadata": {
    "colab": {
      "provenance": [],
      "authorship_tag": "ABX9TyMhWiVfpwr/w6aLbksRxQ05",
      "include_colab_link": true
    },
    "kernelspec": {
      "name": "python3",
      "display_name": "Python 3"
    },
    "language_info": {
      "name": "python"
    }
  },
  "cells": [
    {
      "cell_type": "markdown",
      "metadata": {
        "id": "view-in-github",
        "colab_type": "text"
      },
      "source": [
        "<a href=\"https://colab.research.google.com/github/shinieaggarwal72/Artificial-Intelligence/blob/main/DFS_blockWorldProblem.ipynb\" target=\"_parent\"><img src=\"https://colab.research.google.com/assets/colab-badge.svg\" alt=\"Open In Colab\"/></a>"
      ]
    },
    {
      "cell_type": "code",
      "source": [
        "from collections import deque\n",
        "import copy"
      ],
      "metadata": {
        "id": "Lvs2-u4ytRsq"
      },
      "execution_count": 15,
      "outputs": []
    },
    {
      "cell_type": "code",
      "source": [
        "visited = []"
      ],
      "metadata": {
        "id": "IuXLZbXftX1B"
      },
      "execution_count": 16,
      "outputs": []
    },
    {
      "cell_type": "code",
      "source": [
        "stack1 = deque()\n",
        "stack2 = deque()\n",
        "stack2.append('A')\n",
        "stack3 = deque()\n",
        "stack3.append('B')\n",
        "stack3.append('C')\n",
        "initialState = [stack1, stack2, stack3]\n",
        "s1 = deque()\n",
        "s2 = deque()\n",
        "s3 = deque()\n",
        "s3.append('A')\n",
        "s3.append('B')\n",
        "s3.append('C')\n",
        "goalState = [s1, s2, s3]"
      ],
      "metadata": {
        "id": "9V4yrtLmtUTl"
      },
      "execution_count": 17,
      "outputs": []
    },
    {
      "cell_type": "code",
      "source": [
        "def generateChildren(state):\n",
        "  children = []\n",
        "  for i in range(len(state)):\n",
        "    new_state = copy.deepcopy(state)\n",
        "    if len(new_state[i]) != 0:\n",
        "      popped = new_state[i].pop()\n",
        "      new_state[(i+1)%3].append(popped)\n",
        "      children.append(new_state)\n",
        "  return children"
      ],
      "metadata": {
        "id": "2iDtQxo9ta6J"
      },
      "execution_count": 18,
      "outputs": []
    },
    {
      "cell_type": "code",
      "source": [
        "def dfs(initialState, goalState, visited):\n",
        "  if initialState == goalState:\n",
        "    print('Found: ')\n",
        "    print(initialState)\n",
        "    visited.append(initialState)\n",
        "    return\n",
        "  else:\n",
        "    if initialState not in visited:\n",
        "      visited.append(initialState)\n",
        "      l = generateChildren(initialState)\n",
        "      for succ in l:\n",
        "        if succ not in visited:\n",
        "          dfs(succ, goalState, visited)\n",
        "        if succ == goalState:\n",
        "          break"
      ],
      "metadata": {
        "id": "cNCsCJ_atgPZ"
      },
      "execution_count": 19,
      "outputs": []
    },
    {
      "cell_type": "code",
      "source": [
        "dfs(initialState, goalState, visited)"
      ],
      "metadata": {
        "colab": {
          "base_uri": "https://localhost:8080/"
        },
        "id": "328ycTmTtjrm",
        "outputId": "2879c2e4-cfb3-4f54-a79a-dd21c122da5c"
      },
      "execution_count": 20,
      "outputs": [
        {
          "output_type": "stream",
          "name": "stdout",
          "text": [
            "Found: \n",
            "[deque([]), deque([]), deque(['A', 'B', 'C'])]\n"
          ]
        }
      ]
    }
  ]
}